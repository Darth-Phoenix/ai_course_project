{
 "cells": [
  {
   "cell_type": "markdown",
   "metadata": {},
   "source": [
    "# Predict"
   ]
  },
  {
   "cell_type": "code",
   "execution_count": 1,
   "metadata": {},
   "outputs": [],
   "source": [
    "import pandas as pd\n",
    "from sklearn.model_selection import train_test_split\n",
    "from sklearn.metrics import classification_report\n",
    "from sklearn.ensemble import RandomForestClassifier, GradientBoostingClassifier, AdaBoostClassifier, StackingClassifier\n",
    "from sklearn.tree import DecisionTreeClassifier\n",
    "from collections import Counter\n",
    "from sklearn.svm import LinearSVC\n",
    "from sklearn.pipeline import make_pipeline\n",
    "from sklearn.linear_model import LogisticRegression\n",
    "from sklearn.preprocessing import StandardScaler"
   ]
  },
  {
   "cell_type": "code",
   "execution_count": 2,
   "metadata": {},
   "outputs": [],
   "source": [
    "ori_data = pd.read_csv('./data/v3.csv', index_col=False)"
   ]
  },
  {
   "cell_type": "code",
   "execution_count": 3,
   "metadata": {},
   "outputs": [
    {
     "data": {
      "text/plain": [
       "Index(['Twilight', 'Severity', 'Start_Lat', 'Start_Lng', 'Distance(mi)',\n",
       "       'Street', 'City', 'County', 'State', 'Temperature(F)', 'Humidity(%)',\n",
       "       'Pressure(in)', 'Visibility(mi)', 'Wind_Direction', 'Wind_Speed(mph)',\n",
       "       'Weather_Condition', 'Amenity', 'Bump', 'Crossing', 'Give_Way',\n",
       "       'Junction', 'No_Exit', 'Railway', 'Roundabout', 'Station', 'Stop',\n",
       "       'Traffic_Calming', 'Traffic_Signal', 'Hour', 'Minute', 'Day', 'Month',\n",
       "       'Weekday', 'Year', 'elapsed_time'],\n",
       "      dtype='object')"
      ]
     },
     "execution_count": 3,
     "metadata": {},
     "output_type": "execute_result"
    }
   ],
   "source": [
    "ori_data.columns"
   ]
  },
  {
   "cell_type": "code",
   "execution_count": 4,
   "metadata": {},
   "outputs": [
    {
     "data": {
      "text/html": [
       "<div>\n",
       "<style scoped>\n",
       "    .dataframe tbody tr th:only-of-type {\n",
       "        vertical-align: middle;\n",
       "    }\n",
       "\n",
       "    .dataframe tbody tr th {\n",
       "        vertical-align: top;\n",
       "    }\n",
       "\n",
       "    .dataframe thead th {\n",
       "        text-align: right;\n",
       "    }\n",
       "</style>\n",
       "<table border=\"1\" class=\"dataframe\">\n",
       "  <thead>\n",
       "    <tr style=\"text-align: right;\">\n",
       "      <th></th>\n",
       "      <th>Twilight</th>\n",
       "      <th>Severity</th>\n",
       "      <th>Start_Lat</th>\n",
       "      <th>Start_Lng</th>\n",
       "      <th>Distance(mi)</th>\n",
       "      <th>Street</th>\n",
       "      <th>City</th>\n",
       "      <th>County</th>\n",
       "      <th>State</th>\n",
       "      <th>Temperature(F)</th>\n",
       "      <th>...</th>\n",
       "      <th>Stop</th>\n",
       "      <th>Traffic_Calming</th>\n",
       "      <th>Traffic_Signal</th>\n",
       "      <th>Hour</th>\n",
       "      <th>Minute</th>\n",
       "      <th>Day</th>\n",
       "      <th>Month</th>\n",
       "      <th>Weekday</th>\n",
       "      <th>Year</th>\n",
       "      <th>elapsed_time</th>\n",
       "    </tr>\n",
       "  </thead>\n",
       "  <tbody>\n",
       "    <tr>\n",
       "      <th>0</th>\n",
       "      <td>0</td>\n",
       "      <td>4</td>\n",
       "      <td>40.630609</td>\n",
       "      <td>-75.470606</td>\n",
       "      <td>0.061</td>\n",
       "      <td>309187</td>\n",
       "      <td>11881</td>\n",
       "      <td>882</td>\n",
       "      <td>36</td>\n",
       "      <td>31.0</td>\n",
       "      <td>...</td>\n",
       "      <td>0</td>\n",
       "      <td>0</td>\n",
       "      <td>0</td>\n",
       "      <td>20</td>\n",
       "      <td>18</td>\n",
       "      <td>14</td>\n",
       "      <td>1</td>\n",
       "      <td>3</td>\n",
       "      <td>2016</td>\n",
       "      <td>616470.5</td>\n",
       "    </tr>\n",
       "  </tbody>\n",
       "</table>\n",
       "<p>1 rows × 35 columns</p>\n",
       "</div>"
      ],
      "text/plain": [
       "   Twilight  Severity  Start_Lat  Start_Lng  Distance(mi)  Street   City  \\\n",
       "0         0         4  40.630609 -75.470606         0.061  309187  11881   \n",
       "\n",
       "   County  State  Temperature(F)  ...  Stop  Traffic_Calming  Traffic_Signal  \\\n",
       "0     882     36            31.0  ...     0                0               0   \n",
       "\n",
       "   Hour  Minute  Day  Month  Weekday  Year  elapsed_time  \n",
       "0    20      18   14      1        3  2016      616470.5  \n",
       "\n",
       "[1 rows x 35 columns]"
      ]
     },
     "execution_count": 4,
     "metadata": {},
     "output_type": "execute_result"
    }
   ],
   "source": [
    "ori_data.head(1)"
   ]
  },
  {
   "cell_type": "code",
   "execution_count": 5,
   "metadata": {},
   "outputs": [],
   "source": [
    "X = ori_data.drop(['Severity', 'Start_Lat', 'Start_Lng', 'Hour', 'Minute', 'Hour', 'Weekday', 'Year', 'Month'], axis=1)\n",
    "y = ori_data['Severity']\n",
    "\n",
    "x_train, x_test, y_train, y_test = train_test_split(X, y, test_size=0.2, random_state=42)\n",
    "# x_valid, x_test, y_valid, y_test = train_test_split(x_test, y_test, test_size=0.5, random_state=99)"
   ]
  },
  {
   "cell_type": "code",
   "execution_count": 6,
   "metadata": {},
   "outputs": [
    {
     "name": "stdout",
     "output_type": "stream",
     "text": [
      "Length of training data: 5960350, and its distribution among each severity Counter({2: 4754033, 3: 1002162, 4: 151561, 1: 52594})\n",
      "Length of testing data: 1490088, and its distribution among each severity Counter({2: 1188776, 3: 250247, 4: 38034, 1: 13031})\n"
     ]
    }
   ],
   "source": [
    "print(f'Length of training data: {len(x_train)}, and its distribution among each severity {Counter(y_train)}')\n",
    "# print(f'Length of validation data: {len(x_valid)}, and its distribution among each severity {Counter(y_valid)}')\n",
    "print(f'Length of testing data: {len(x_test)}, and its distribution among each severity {Counter(y_test)}')"
   ]
  },
  {
   "cell_type": "code",
   "execution_count": 7,
   "metadata": {},
   "outputs": [
    {
     "name": "stdout",
     "output_type": "stream",
     "text": [
      "After under sampling:\n",
      "Length of training data: 210376, and its distribution among each severity Counter({1: 52594, 2: 52594, 3: 52594, 4: 52594})\n"
     ]
    }
   ],
   "source": [
    "from imblearn.under_sampling import RandomUnderSampler\n",
    "rus = RandomUnderSampler(random_state=42)\n",
    "\n",
    "x_res, y_res = rus.fit_resample(x_train, y_train)\n",
    "print('After under sampling:')\n",
    "print(f'Length of training data: {len(x_res)}, and its distribution among each severity {Counter(y_res)}')"
   ]
  },
  {
   "cell_type": "code",
   "execution_count": 10,
   "metadata": {},
   "outputs": [],
   "source": [
    "from sklearn.model_selection import GridSearchCV\n",
    "from sklearn.metrics import f1_score, make_scorer\n",
    "\n",
    "dt = RandomForestClassifier()\n",
    "\n",
    "def custom_scoring(y_true, y_pred):\n",
    "    weights = {\n",
    "        1: 10,\n",
    "        2: 1,\n",
    "        3: 1,\n",
    "        4: 10\n",
    "    }\n",
    "    weighted_f1 = f1_score(y_true, y_pred, average='weighted', labels=[1, 2, 3, 4], sample_weight=[weights[label] for label in y_true])\n",
    "    return weighted_f1\n",
    "\n",
    "# Define the hyperparameter grid to search\n",
    "param_grid = {\n",
    "    'criterion': ['gini'],\n",
    "    'n_estimators': [100, 200, 300],\n",
    "    'max_depth': [15, 25, None],\n",
    "    # 'min_samples_split': [2, 5],\n",
    "    # 'min_samples_leaf': [1, 2, 4]\n",
    "}\n",
    "\n",
    "score = make_scorer(custom_scoring)\n",
    "\n",
    "# Use GridSearchCV to perform the search\n",
    "grid_search = GridSearchCV(dt, param_grid, cv=5, scoring=score)\n",
    "grid_search.fit(x_res, y_res)\n",
    "\n",
    "# Print the best hyperparameters\n",
    "print(\"Best Hyperparameters:\", grid_search.best_params_)\n",
    "\n",
    "y_pred = grid_search.best_estimator_.predict(x_test)\n",
    "print(classification_report(y_test, y_pred))"
   ]
  },
  {
   "cell_type": "code",
   "execution_count": null,
   "metadata": {},
   "outputs": [
    {
     "name": "stdout",
     "output_type": "stream",
     "text": [
      "              precision    recall  f1-score   support\n",
      "\n",
      "           1       0.07      0.84      0.12     13031\n",
      "           2       0.95      0.57      0.71   1188776\n",
      "           3       0.47      0.72      0.57    250247\n",
      "           4       0.12      0.76      0.21     38034\n",
      "\n",
      "    accuracy                           0.60   1490088\n",
      "   macro avg       0.40      0.72      0.40   1490088\n",
      "weighted avg       0.84      0.60      0.67   1490088\n",
      "\n"
     ]
    }
   ],
   "source": [
    "dt = DecisionTreeClassifier(max_depth=15)\n",
    "dt.fit(x_res, y_res)\n",
    "y_pred = dt.predict(x_test)\n",
    "\n",
    "print(classification_report(y_test, y_pred))"
   ]
  },
  {
   "cell_type": "code",
   "execution_count": null,
   "metadata": {},
   "outputs": [
    {
     "name": "stdout",
     "output_type": "stream",
     "text": [
      "              precision    recall  f1-score   support\n",
      "\n",
      "           1       0.25      0.96      0.40     13031\n",
      "           2       0.97      0.68      0.80   1188776\n",
      "           3       0.52      0.80      0.63    250247\n",
      "           4       0.15      0.86      0.25     38034\n",
      "\n",
      "    accuracy                           0.71   1490088\n",
      "   macro avg       0.47      0.83      0.52   1490088\n",
      "weighted avg       0.87      0.71      0.76   1490088\n",
      "\n"
     ]
    }
   ],
   "source": [
    "clf = RandomForestClassifier()\n",
    "clf.fit(x_res, y_res)\n",
    "y_pred = clf.predict(x_test)\n",
    "\n",
    "print(classification_report(y_test, y_pred))"
   ]
  },
  {
   "cell_type": "code",
   "execution_count": null,
   "metadata": {},
   "outputs": [
    {
     "name": "stdout",
     "output_type": "stream",
     "text": [
      "              precision    recall  f1-score   support\n",
      "\n",
      "           1       0.21      0.93      0.35     13031\n",
      "           2       0.93      0.52      0.66   1188776\n",
      "           3       0.49      0.69      0.57    250247\n",
      "           4       0.07      0.77      0.13     38034\n",
      "\n",
      "    accuracy                           0.55   1490088\n",
      "   macro avg       0.43      0.73      0.43   1490088\n",
      "weighted avg       0.83      0.55      0.63   1490088\n",
      "\n"
     ]
    }
   ],
   "source": [
    "abc = AdaBoostClassifier(estimator=DecisionTreeClassifier(max_depth=5), n_estimators=100)\n",
    "abc.fit(x_res, y_res)\n",
    "y_pred = abc.predict(x_test)\n",
    "\n",
    "print(classification_report(y_test, y_pred))"
   ]
  },
  {
   "cell_type": "code",
   "execution_count": null,
   "metadata": {},
   "outputs": [
    {
     "name": "stderr",
     "output_type": "stream",
     "text": [
      "/Users/lichen/Codes/AI_intro_class/ai_course_project/.venv/lib/python3.11/site-packages/sklearn/linear_model/_logistic.py:460: ConvergenceWarning: lbfgs failed to converge (status=1):\n",
      "STOP: TOTAL NO. of ITERATIONS REACHED LIMIT.\n",
      "\n",
      "Increase the number of iterations (max_iter) or scale the data as shown in:\n",
      "    https://scikit-learn.org/stable/modules/preprocessing.html\n",
      "Please also refer to the documentation for alternative solver options:\n",
      "    https://scikit-learn.org/stable/modules/linear_model.html#logistic-regression\n",
      "  n_iter_i = _check_optimize_result(\n"
     ]
    },
    {
     "name": "stdout",
     "output_type": "stream",
     "text": [
      "              precision    recall  f1-score   support\n",
      "\n",
      "           1       0.21      0.93      0.35     13031\n",
      "           2       0.93      0.52      0.66   1188776\n",
      "           3       0.49      0.69      0.57    250247\n",
      "           4       0.07      0.77      0.13     38034\n",
      "\n",
      "    accuracy                           0.55   1490088\n",
      "   macro avg       0.43      0.73      0.43   1490088\n",
      "weighted avg       0.83      0.55      0.63   1490088\n",
      "\n"
     ]
    }
   ],
   "source": [
    "estimators = [\n",
    "    ('rf', RandomForestClassifier(random_state=42)),\n",
    "    ('svr', make_pipeline(StandardScaler(), LinearSVC(dual=\"auto\", random_state=42)))\n",
    "]\n",
    "sclf = StackingClassifier(\n",
    "    estimators=estimators, final_estimator=LogisticRegression()\n",
    ")\n",
    "sclf.fit(x_res, y_res)\n",
    "y_pred = abc.predict(x_test)\n",
    "print(classification_report(y_test, y_pred))"
   ]
  },
  {
   "cell_type": "code",
   "execution_count": null,
   "metadata": {},
   "outputs": [
    {
     "name": "stdout",
     "output_type": "stream",
     "text": [
      "              precision    recall  f1-score   support\n",
      "\n",
      "           1       0.02      0.58      0.03     13031\n",
      "           2       0.84      0.04      0.08   1188776\n",
      "           3       0.23      0.49      0.31    250247\n",
      "           4       0.04      0.51      0.08     38034\n",
      "\n",
      "    accuracy                           0.13   1490088\n",
      "   macro avg       0.28      0.40      0.13   1490088\n",
      "weighted avg       0.71      0.13      0.12   1490088\n",
      "\n"
     ]
    }
   ],
   "source": [
    "svm = make_pipeline(StandardScaler(), LinearSVC(dual=\"auto\", random_state=42, max_iter=50000))\n",
    "svm.fit(x_res, y_res)\n",
    "y_pred = svm.predict(x_test)\n",
    "\n",
    "print(classification_report(y_test, y_pred))\n"
   ]
  },
  {
   "cell_type": "code",
   "execution_count": null,
   "metadata": {},
   "outputs": [
    {
     "name": "stdout",
     "output_type": "stream",
     "text": [
      "[2 1 3 ... 4 3 3]\n"
     ]
    }
   ],
   "source": [
    "print(y_pred)"
   ]
  }
 ],
 "metadata": {
  "kernelspec": {
   "display_name": ".venv",
   "language": "python",
   "name": "python3"
  },
  "language_info": {
   "codemirror_mode": {
    "name": "ipython",
    "version": 3
   },
   "file_extension": ".py",
   "mimetype": "text/x-python",
   "name": "python",
   "nbconvert_exporter": "python",
   "pygments_lexer": "ipython3",
   "version": "3.11.6"
  }
 },
 "nbformat": 4,
 "nbformat_minor": 2
}
